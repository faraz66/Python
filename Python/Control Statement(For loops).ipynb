{
 "cells": [
  {
   "cell_type": "code",
   "execution_count": 10,
   "metadata": {},
   "outputs": [
    {
     "name": "stdout",
     "output_type": "stream",
     "text": [
      "anas\n",
      "faisal\n",
      "ashhar\n",
      "34\n",
      "6\n",
      "7\n",
      "9\n",
      "87\n",
      "65\n"
     ]
    }
   ],
   "source": [
    "tup = ('anas','faisal','ashhar',34,6,7,9,87,65)\n",
    "for n in tup:\n",
    "    print(n)"
   ]
  },
  {
   "cell_type": "code",
   "execution_count": 11,
   "metadata": {},
   "outputs": [
    {
     "name": "stdout",
     "output_type": "stream",
     "text": [
      "anas\n",
      "faisal\n",
      "ashhar\n",
      "34\n",
      "6\n",
      "7\n",
      "9\n",
      "87\n",
      "65\n"
     ]
    }
   ],
   "source": [
    "lis = ['anas','faisal','ashhar',34,6,7,9,87,65]\n",
    "for name in lis:\n",
    "    print(name)"
   ]
  },
  {
   "cell_type": "code",
   "execution_count": 12,
   "metadata": {},
   "outputs": [
    {
     "name": "stdout",
     "output_type": "stream",
     "text": [
      "faisal\n",
      "faisal\n",
      "faisal\n",
      "faisal\n",
      "faisal\n",
      "faisal\n",
      "faisal\n",
      "faisal\n",
      "faisal\n"
     ]
    }
   ],
   "source": [
    "lis = ['anas','faisal','ashhar',34,6,7 ,9,87,65]\n",
    "for name in lis:\n",
    "    print('faisal')"
   ]
  },
  {
   "cell_type": "code",
   "execution_count": 15,
   "metadata": {},
   "outputs": [
    {
     "name": "stdout",
     "output_type": "stream",
     "text": [
      "Odd number : 1\n",
      "Even number : 34\n",
      "Odd number : 5\n",
      "Odd number : 67\n",
      "Odd number : 89\n",
      "Even number : 90\n",
      "Odd number : 987\n",
      "Even number : 76\n",
      "Even number : 6\n"
     ]
    }
   ],
   "source": [
    "numbers = [1,34,5,67,89,90,987,76,6]\n",
    "for num in numbers:\n",
    "    if num%2==0 :\n",
    "        print(f'Even number : {num}')\n",
    "    else :\n",
    "        print(f'Odd number : {num}')"
   ]
  },
  {
   "cell_type": "code",
   "execution_count": null,
   "metadata": {},
   "outputs": [],
   "source": []
  }
 ],
 "metadata": {
  "kernelspec": {
   "display_name": "Python 3",
   "language": "python",
   "name": "python3"
  },
  "language_info": {
   "codemirror_mode": {
    "name": "ipython",
    "version": 3
   },
   "file_extension": ".py",
   "mimetype": "text/x-python",
   "name": "python",
   "nbconvert_exporter": "python",
   "pygments_lexer": "ipython3",
   "version": "3.7.1"
  }
 },
 "nbformat": 4,
 "nbformat_minor": 2
}
