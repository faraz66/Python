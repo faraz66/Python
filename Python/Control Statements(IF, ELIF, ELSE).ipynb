{
 "cells": [
  {
   "cell_type": "code",
   "execution_count": 8,
   "metadata": {},
   "outputs": [
    {
     "name": "stdout",
     "output_type": "stream",
     "text": [
      "Enter Your name and password to login to the system\n",
      "Your name : faisal\n",
      "Your password : Faisal@786\n",
      "Welcome faisal\n"
     ]
    }
   ],
   "source": [
    "admin_name = \"faisal\"\n",
    "admin_password = \"Faisal@786\"\n",
    "\n",
    "print(\"Enter Your name and password to login to the system\")\n",
    "name = input(\"Your name : \")\n",
    "pasd = input(\"Your password : \")\n",
    "\n",
    "if((name == admin_name)&(pasd == admin_password)):\n",
    "    print('Welcome '+name)\n",
    "else:\n",
    "    print(\"Stay Back Asshole\")"
   ]
  },
  {
   "cell_type": "code",
   "execution_count": null,
   "metadata": {},
   "outputs": [],
   "source": [
    "print(\"1.Faisal\\n2.'Shaban\\n3.Ashhar\\n4.Anas\\n5.Masood'\")\n",
    "name = int(input('Choose any of the following'))\n",
    "\n",
    "if name == 'Faisal':\n",
    "    print(\"Your name is Faisal\")\n",
    "elif name == 'Shaban':\n",
    "    print('Your name is Shaban')\n",
    "elif name == 'Ashhar':\n",
    "    print(\"Your name is Ashhar\")\n",
    "elif name == 'Anas':\n",
    "    print('Your name is Anas')\n",
    "else:\n",
    "    print('Your name is Masood')"
   ]
  },
  {
   "cell_type": "code",
   "execution_count": null,
   "metadata": {},
   "outputs": [],
   "source": [
    "print(\"1.Faisal\\n2.Shaban\\n3.Ashhar\\n4.Anas\\n5.Masood\")\n",
    "name = input('Choose any of the following')\n",
    "\n",
    "if name == 1:\n",
    "    print(\"Your name is Faisal\")\n",
    "elif name == 2:\n",
    "    print('Your name is Shaban')\n",
    "elif name == 3:\n",
    "    print(\"Your name is Ashhar\")\n",
    "elif name == 4:\n",
    "    print('Your name is Anas')\n",
    "elif name == 5:\n",
    "    print('Your name is Masood')\n",
    "else:\n",
    "    print('Wrong Input Nonsense')"
   ]
  },
  {
   "cell_type": "code",
   "execution_count": null,
   "metadata": {},
   "outputs": [],
   "source": []
  }
 ],
 "metadata": {
  "kernelspec": {
   "display_name": "Python 3",
   "language": "python",
   "name": "python3"
  },
  "language_info": {
   "codemirror_mode": {
    "name": "ipython",
    "version": 3
   },
   "file_extension": ".py",
   "mimetype": "text/x-python",
   "name": "python",
   "nbconvert_exporter": "python",
   "pygments_lexer": "ipython3",
   "version": "3.7.1"
  }
 },
 "nbformat": 4,
 "nbformat_minor": 2
}
