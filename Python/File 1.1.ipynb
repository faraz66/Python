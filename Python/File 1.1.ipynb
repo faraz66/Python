{
 "cells": [
  {
   "cell_type": "code",
   "execution_count": 2,
   "metadata": {},
   "outputs": [
    {
     "name": "stdout",
     "output_type": "stream",
     "text": [
      "Writing World.txt\n"
     ]
    }
   ],
   "source": [
    "%%writefile World.txt\n",
    "One is 1\n",
    "Two is 2\n",
    "Three is 3"
   ]
  },
  {
   "cell_type": "code",
   "execution_count": 5,
   "metadata": {},
   "outputs": [
    {
     "name": "stdout",
     "output_type": "stream",
     "text": [
      "['One is 1\\n', 'Two is 2\\n', 'Three is 3\\n']\n"
     ]
    }
   ],
   "source": [
    "with open('World.txt', mode='r+') as r:\n",
    "    print(r.readlines())"
   ]
  },
  {
   "cell_type": "code",
   "execution_count": 6,
   "metadata": {},
   "outputs": [],
   "source": [
    "with open('World.txt',mode='a') as a:\n",
    "    a.write(\"Four is 4\")"
   ]
  },
  {
   "cell_type": "code",
   "execution_count": 7,
   "metadata": {},
   "outputs": [
    {
     "name": "stdout",
     "output_type": "stream",
     "text": [
      "['One is 1\\n', 'Two is 2\\n', 'Three is 3\\n', 'Four is 4']\n"
     ]
    }
   ],
   "source": [
    "with open('World.txt', mode='r+') as r:\n",
    "    print(r.readlines())"
   ]
  },
  {
   "cell_type": "code",
   "execution_count": 8,
   "metadata": {},
   "outputs": [
    {
     "name": "stdout",
     "output_type": "stream",
     "text": [
      "One is 1\n",
      "Two is 2\n",
      "Three is 3\n",
      "Four is 4\n"
     ]
    }
   ],
   "source": [
    "with open('World.txt', mode='r+') as r:\n",
    "    print(r.read())"
   ]
  },
  {
   "cell_type": "code",
   "execution_count": null,
   "metadata": {},
   "outputs": [],
   "source": []
  }
 ],
 "metadata": {
  "kernelspec": {
   "display_name": "Python 3",
   "language": "python",
   "name": "python3"
  },
  "language_info": {
   "codemirror_mode": {
    "name": "ipython",
    "version": 3
   },
   "file_extension": ".py",
   "mimetype": "text/x-python",
   "name": "python",
   "nbconvert_exporter": "python",
   "pygments_lexer": "ipython3",
   "version": "3.7.1"
  }
 },
 "nbformat": 4,
 "nbformat_minor": 2
}
