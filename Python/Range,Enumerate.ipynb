{
 "cells": [
  {
   "cell_type": "code",
   "execution_count": 1,
   "metadata": {},
   "outputs": [
    {
     "name": "stdout",
     "output_type": "stream",
     "text": [
      "[1, 3, 5, 7, 9, 11, 13, 15, 17, 19]\n"
     ]
    }
   ],
   "source": [
    "#RANGE\n",
    "print(list(range(1,20,2)))"
   ]
  },
  {
   "cell_type": "code",
   "execution_count": 4,
   "metadata": {},
   "outputs": [
    {
     "name": "stdout",
     "output_type": "stream",
     "text": [
      "At the index 0 the letter is f\n",
      "At the index 1 the letter is a\n",
      "At the index 2 the letter is i\n",
      "At the index 3 the letter is s\n",
      "At the index 4 the letter is a\n",
      "At the index 5 the letter is l\n"
     ]
    }
   ],
   "source": [
    "c = 0\n",
    "for letter in 'faisal':\n",
    "    print('At the index {} the letter is {}'.format(c,letter))\n",
    "    c+=1"
   ]
  },
  {
   "cell_type": "code",
   "execution_count": 5,
   "metadata": {},
   "outputs": [
    {
     "name": "stdout",
     "output_type": "stream",
     "text": [
      "f\n",
      "a\n",
      "i\n",
      "s\n",
      "a\n",
      "l\n"
     ]
    }
   ],
   "source": [
    "index = 0\n",
    "word = 'faisal'\n",
    "for letters in word:\n",
    "    print(word[index])\n",
    "    index+=1"
   ]
  },
  {
   "cell_type": "code",
   "execution_count": 7,
   "metadata": {},
   "outputs": [
    {
     "name": "stdout",
     "output_type": "stream",
     "text": [
      "(0, 'f')\n",
      "(1, 'a')\n",
      "(2, 'i')\n",
      "(3, 's')\n",
      "(4, 'a')\n",
      "(5, 'l')\n"
     ]
    }
   ],
   "source": [
    "#ENUMERATE\n",
    "for letter in enumerate(word):\n",
    "    print(letter)"
   ]
  },
  {
   "cell_type": "code",
   "execution_count": 8,
   "metadata": {},
   "outputs": [
    {
     "name": "stdout",
     "output_type": "stream",
     "text": [
      "0\n",
      "f\n",
      "\n",
      "\n",
      "1\n",
      "a\n",
      "\n",
      "\n",
      "2\n",
      "i\n",
      "\n",
      "\n",
      "3\n",
      "s\n",
      "\n",
      "\n",
      "4\n",
      "a\n",
      "\n",
      "\n",
      "5\n",
      "l\n",
      "\n",
      "\n"
     ]
    }
   ],
   "source": [
    "for index,letter in enumerate(word):\n",
    "    print(index)\n",
    "    print(letter)\n",
    "    print('\\n')"
   ]
  },
  {
   "cell_type": "code",
   "execution_count": 9,
   "metadata": {},
   "outputs": [
    {
     "name": "stdout",
     "output_type": "stream",
     "text": [
      "(1, 'a')\n",
      "(2, 'b')\n",
      "(3, 'c')\n"
     ]
    }
   ],
   "source": [
    "#ZIP\n",
    "mylist1 = [1,2,3]\n",
    "mylist2 = ['a', 'b', 'c']\n",
    "\n",
    "for item in zip(mylist1,mylist2):\n",
    "    print(item)"
   ]
  },
  {
   "cell_type": "code",
   "execution_count": 11,
   "metadata": {},
   "outputs": [
    {
     "name": "stdout",
     "output_type": "stream",
     "text": [
      "(1, 'a', 'faisal')\n",
      "(2, 'b', 'sayed')\n"
     ]
    }
   ],
   "source": [
    "#ZIP\n",
    "mylist1 = [1,2,3]\n",
    "mylist2 = ['a', 'b', 'c']\n",
    "mylist3 = ['faisal','sayed']\n",
    "\n",
    "for item in zip(mylist1,mylist2,mylist3):\n",
    "    print(item)"
   ]
  },
  {
   "cell_type": "code",
   "execution_count": 13,
   "metadata": {},
   "outputs": [
    {
     "name": "stdout",
     "output_type": "stream",
     "text": [
      "[(1, 'a', 'faisal'), (2, 'b', 'sayed')]\n"
     ]
    }
   ],
   "source": [
    "print(list(zip(mylist1,mylist2,mylist3)))"
   ]
  },
  {
   "cell_type": "code",
   "execution_count": 20,
   "metadata": {},
   "outputs": [],
   "source": [
    "#Shuffle \n",
    "from random import shuffle\n",
    "\n",
    "mylist = [1,3,45,67,8,7,65,4,4,567,89,876]\n",
    "shuffle(mylist)"
   ]
  },
  {
   "cell_type": "code",
   "execution_count": 21,
   "metadata": {},
   "outputs": [
    {
     "name": "stdout",
     "output_type": "stream",
     "text": [
      "[8, 567, 67, 876, 4, 45, 1, 89, 65, 7, 3, 4]\n"
     ]
    }
   ],
   "source": [
    "print(mylist)"
   ]
  },
  {
   "cell_type": "code",
   "execution_count": 37,
   "metadata": {},
   "outputs": [
    {
     "name": "stdout",
     "output_type": "stream",
     "text": [
      "613\n"
     ]
    }
   ],
   "source": [
    "# Random Function\n",
    "from random import randint\n",
    "rand = randint(0,1000)\n",
    "print(rand)"
   ]
  }
 ],
 "metadata": {
  "kernelspec": {
   "display_name": "Python 3",
   "language": "python",
   "name": "python3"
  },
  "language_info": {
   "codemirror_mode": {
    "name": "ipython",
    "version": 3
   },
   "file_extension": ".py",
   "mimetype": "text/x-python",
   "name": "python",
   "nbconvert_exporter": "python",
   "pygments_lexer": "ipython3",
   "version": "3.7.1"
  }
 },
 "nbformat": 4,
 "nbformat_minor": 2
}
