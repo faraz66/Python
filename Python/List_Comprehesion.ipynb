{
 "cells": [
  {
   "cell_type": "code",
   "execution_count": 6,
   "metadata": {},
   "outputs": [
    {
     "name": "stdout",
     "output_type": "stream",
     "text": [
      "['F', 'a', 'i', 's', 'a', 'l']\n"
     ]
    }
   ],
   "source": [
    "mystring = \"Faisal\"\n",
    "mylist= [letters for letters in mystring]\n",
    "print(mylist)"
   ]
  },
  {
   "cell_type": "code",
   "execution_count": 8,
   "metadata": {},
   "outputs": [
    {
     "name": "stdout",
     "output_type": "stream",
     "text": [
      "{34, 2, 4, 5, 3, 6, 35, 678, 235, 45, 46, 2353, 243, 534, 56, 346, 63}\n"
     ]
    }
   ],
   "source": [
    "mynum = [34,4,5,56,46,2353,2,235,3,6,243,6,34,534,63,45,346,35,678]\n",
    "x = set(mynum)\n",
    "print(x)"
   ]
  },
  {
   "cell_type": "code",
   "execution_count": 14,
   "metadata": {},
   "outputs": [],
   "source": [
    "mylist1 = [num*2 for num in mynum]"
   ]
  },
  {
   "cell_type": "code",
   "execution_count": 15,
   "metadata": {},
   "outputs": [
    {
     "name": "stdout",
     "output_type": "stream",
     "text": [
      "[68, 8, 10, 112, 92, 4706, 4, 470, 6, 12, 486, 12, 68, 1068, 126, 90, 692, 70, 1356]\n"
     ]
    }
   ],
   "source": [
    "print(mylist1)"
   ]
  },
  {
   "cell_type": "code",
   "execution_count": 16,
   "metadata": {},
   "outputs": [],
   "source": [
    "lis = [char for char in 'qwertyuiop']"
   ]
  },
  {
   "cell_type": "code",
   "execution_count": 19,
   "metadata": {},
   "outputs": [],
   "source": [
    "lis.append('faisal')"
   ]
  },
  {
   "cell_type": "code",
   "execution_count": 20,
   "metadata": {},
   "outputs": [
    {
     "data": {
      "text/plain": [
       "['q', 'w', 'e', 'r', 't', 'y', 'u', 'i', 'o', 'p', 'faisal']"
      ]
     },
     "execution_count": 20,
     "metadata": {},
     "output_type": "execute_result"
    }
   ],
   "source": [
    "lis"
   ]
  },
  {
   "cell_type": "code",
   "execution_count": 21,
   "metadata": {},
   "outputs": [],
   "source": [
    "lis.extend('faisal')"
   ]
  },
  {
   "cell_type": "code",
   "execution_count": 23,
   "metadata": {},
   "outputs": [
    {
     "data": {
      "text/plain": [
       "{'a',\n",
       " 'e',\n",
       " 'f',\n",
       " 'faisal',\n",
       " 'i',\n",
       " 'l',\n",
       " 'o',\n",
       " 'p',\n",
       " 'q',\n",
       " 'r',\n",
       " 's',\n",
       " 't',\n",
       " 'u',\n",
       " 'w',\n",
       " 'y'}"
      ]
     },
     "execution_count": 23,
     "metadata": {},
     "output_type": "execute_result"
    }
   ],
   "source": [
    "set(lis)"
   ]
  },
  {
   "cell_type": "code",
   "execution_count": 32,
   "metadata": {},
   "outputs": [],
   "source": [
    "new_list = [(x**2)for x in range(1,100)]"
   ]
  },
  {
   "cell_type": "code",
   "execution_count": 34,
   "metadata": {},
   "outputs": [
    {
     "name": "stdout",
     "output_type": "stream",
     "text": [
      "[1, 4, 9, 16, 25, 36, 49, 64, 81, 100, 121, 144, 169, 196, 225, 256, 289, 324, 361, 400, 441, 484, 529, 576, 625, 676, 729, 784, 841, 900, 961, 1024, 1089, 1156, 1225, 1296, 1369, 1444, 1521, 1600, 1681, 1764, 1849, 1936, 2025, 2116, 2209, 2304, 2401, 2500, 2601, 2704, 2809, 2916, 3025, 3136, 3249, 3364, 3481, 3600, 3721, 3844, 3969, 4096, 4225, 4356, 4489, 4624, 4761, 4900, 5041, 5184, 5329, 5476, 5625, 5776, 5929, 6084, 6241, 6400, 6561, 6724, 6889, 7056, 7225, 7396, 7569, 7744, 7921, 8100, 8281, 8464, 8649, 8836, 9025, 9216, 9409, 9604, 9801]\n"
     ]
    }
   ],
   "source": [
    "print(new_list)"
   ]
  },
  {
   "cell_type": "code",
   "execution_count": 56,
   "metadata": {},
   "outputs": [],
   "source": [
    "celci = [1,234,52,5,0]\n",
    "farh = [( (9/5)*temp + 32)for temp in celci]"
   ]
  },
  {
   "cell_type": "code",
   "execution_count": 57,
   "metadata": {},
   "outputs": [
    {
     "data": {
      "text/plain": [
       "[33.8, 453.2, 125.60000000000001, 41.0, 32.0]"
      ]
     },
     "execution_count": 57,
     "metadata": {},
     "output_type": "execute_result"
    }
   ],
   "source": [
    "farh"
   ]
  },
  {
   "cell_type": "code",
   "execution_count": 60,
   "metadata": {},
   "outputs": [
    {
     "name": "stdout",
     "output_type": "stream",
     "text": [
      "[0, 'ODD', 2, 'ODD', 4, 'ODD', 6, 'ODD', 8, 'ODD', 10, 'ODD', 12, 'ODD', 14, 'ODD', 16, 'ODD', 18, 'ODD', 20, 'ODD', 22, 'ODD', 24, 'ODD', 26, 'ODD', 28, 'ODD', 30, 'ODD', 32, 'ODD', 34, 'ODD', 36, 'ODD', 38, 'ODD', 40, 'ODD', 42, 'ODD', 44, 'ODD', 46, 'ODD', 48, 'ODD', 50, 'ODD', 52, 'ODD', 54, 'ODD', 56, 'ODD', 58, 'ODD', 60, 'ODD', 62, 'ODD', 64, 'ODD', 66, 'ODD', 68, 'ODD', 70, 'ODD', 72, 'ODD', 74, 'ODD', 76, 'ODD', 78, 'ODD', 80, 'ODD', 82, 'ODD', 84, 'ODD', 86, 'ODD', 88, 'ODD', 90, 'ODD', 92, 'ODD', 94, 'ODD', 96, 'ODD', 98, 'ODD']\n"
     ]
    }
   ],
   "source": [
    "even = [x if x%2==0 else 'ODD' for x in range(0,100)]\n",
    "print(even)"
   ]
  },
  {
   "cell_type": "code",
   "execution_count": 62,
   "metadata": {},
   "outputs": [
    {
     "name": "stdout",
     "output_type": "stream",
     "text": [
      "23\n",
      "5\n",
      "7\n",
      "805\n",
      "175\n",
      "245\n",
      "161\n",
      "35\n",
      "49\n"
     ]
    }
   ],
   "source": [
    "for x in [1,35,7]:\n",
    "    for y in [23,5,7]:\n",
    "        print(x*y)"
   ]
  },
  {
   "cell_type": "code",
   "execution_count": null,
   "metadata": {},
   "outputs": [],
   "source": []
  }
 ],
 "metadata": {
  "kernelspec": {
   "display_name": "Python 3",
   "language": "python",
   "name": "python3"
  }
 },
 "nbformat": 4,
 "nbformat_minor": 2
}
