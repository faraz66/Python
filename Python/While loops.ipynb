{
 "cells": [
  {
   "cell_type": "code",
   "execution_count": 10,
   "metadata": {},
   "outputs": [
    {
     "name": "stdout",
     "output_type": "stream",
     "text": [
      "The current value of x  = 0\n",
      "The current value of x  = 1\n",
      "The current value of x  = 2\n",
      "The current value of x  = 3\n",
      "The current value of x  = 4\n",
      "The value of 5 is not less than 5\n"
     ]
    }
   ],
   "source": [
    "x = 0\n",
    "\n",
    "while x < 5:\n",
    "    print(f'The current value of x  = {x}')\n",
    "    x+=1\n",
    "else:\n",
    "    print(f'The value of {x} is not less than 5')"
   ]
  },
  {
   "cell_type": "code",
   "execution_count": 14,
   "metadata": {},
   "outputs": [
    {
     "name": "stdout",
     "output_type": "stream",
     "text": [
      "I think I'll go to Grey Atom\n"
     ]
    }
   ],
   "source": [
    "x = [1,2,4]\n",
    "\n",
    "for item in x:\n",
    "    pass\n",
    "print(\"I think I'll go to Grey Atom\")"
   ]
  },
  {
   "cell_type": "code",
   "execution_count": 17,
   "metadata": {},
   "outputs": [
    {
     "name": "stdout",
     "output_type": "stream",
     "text": [
      "F\n",
      "I\n",
      "S\n"
     ]
    }
   ],
   "source": [
    "name = 'FAISAL'\n",
    "\n",
    "for letter in name:\n",
    "    if letter == 'A':\n",
    "        continue\n",
    "    elif letter == 'L':\n",
    "        break\n",
    "    print(letter)"
   ]
  },
  {
   "cell_type": "code",
   "execution_count": null,
   "metadata": {},
   "outputs": [],
   "source": []
  }
 ],
 "metadata": {
  "kernelspec": {
   "display_name": "Python 3",
   "language": "python",
   "name": "python3"
  },
  "language_info": {
   "codemirror_mode": {
    "name": "ipython",
    "version": 3
   },
   "file_extension": ".py",
   "mimetype": "text/x-python",
   "name": "python",
   "nbconvert_exporter": "python",
   "pygments_lexer": "ipython3",
   "version": "3.7.1"
  }
 },
 "nbformat": 4,
 "nbformat_minor": 2
}
